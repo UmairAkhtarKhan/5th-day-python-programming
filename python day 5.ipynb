{
 "cells": [
  {
   "cell_type": "code",
   "execution_count": 11,
   "id": "229ba754-8bb9-4064-9041-541849c1f29c",
   "metadata": {},
   "outputs": [
    {
     "name": "stdout",
     "output_type": "stream",
     "text": [
      "5040\n"
     ]
    }
   ],
   "source": [
    "#  function recursion\n",
    "# we know that a function can call other function,it is even possible for the function to call it self,this kind of construct is called recursion\n",
    "# if a function called inside the function\n",
    "def factorial(num):\n",
    "    if num ==1 or num ==0:\n",
    "        return 1\n",
    "    else:\n",
    "        return num * factorial(num-1)\n",
    "print(factorial(7))\n",
    "\n",
    "\n",
    "        "
   ]
  },
  {
   "cell_type": "code",
   "execution_count": 12,
   "id": "1a56fca5-ca54-4d64-be9e-7c686b22e746",
   "metadata": {},
   "outputs": [
    {
     "name": "stdout",
     "output_type": "stream",
     "text": [
      "<class 'set'>\n",
      "{1, 2, 3, 4.1, 6, 7, 'abc'}\n",
      "1\n",
      "2\n",
      "3\n",
      "4.1\n",
      "6\n",
      "7\n",
      "abc\n"
     ]
    }
   ],
   "source": [
    "# sets\n",
    "# sets are unorder collection of data item which can store multiple items in single variable,set items are seprated by commas,\n",
    "# and enclosed in {} curly brackets\n",
    "# set items are imuteable we canot change once created ,and set donot store duplicate values\n",
    "s1={1,2,3,'abc',4.1,6,7,True}\n",
    "print(type(s1))\n",
    "print(s1)\n",
    "for i in  s1:\n",
    "    print(i)\n",
    "\n",
    "\n"
   ]
  },
  {
   "cell_type": "code",
   "execution_count": 13,
   "id": "7ebd0064-3ba7-4caf-85a4-2b225f6b6eb9",
   "metadata": {},
   "outputs": [
    {
     "name": "stdout",
     "output_type": "stream",
     "text": [
      "{'string', 2, 34, 4, 1, 5, 6, 'number', 11}\n",
      "{1, 2, 3, 4, 5, 6}\n",
      "{'string', 2, 34, 4, 1, 5, 6, 3, 'number', 11}\n",
      "{'string', 2, 34, 4, 1, 5, 6, 3, 'number', 11}\n",
      "{1, 2, 3, 6}\n",
      "{1, 2, 3, 6}\n",
      "{4, 5}\n",
      "{4.1, 4, 7, 5, 'abc'}\n",
      "{4, 5}\n",
      "{4, 5}\n",
      "True\n",
      "False\n",
      "{4, 5, 78}\n",
      "{4, 5, 4.1, 7, 78, 'abc'}\n",
      "{50, 20, 40, 10, 30}\n",
      "{50, 20, 40, 10}\n",
      "{50, 40, 10}\n",
      "{40, 10}\n",
      "{1200, 100, 300}\n",
      "set()\n"
     ]
    },
    {
     "data": {
      "text/plain": [
       "True"
      ]
     },
     "execution_count": 13,
     "metadata": {},
     "output_type": "execute_result"
    }
   ],
   "source": [
    "# sets are same as in math,we can those math operation on set\n",
    "# union and update\n",
    "# union and update method prints all those items which are present in those 2 sets\n",
    "# but union method return new set which contains those items which are present in those two sets\n",
    "s2={1,2,'number','string',11,34,4,5,6}\n",
    "s3={1,2,3,4,5,6}\n",
    "s4=s2.union(s3)\n",
    "print(s2)\n",
    "print(s3)\n",
    "print(s4)\n",
    "# and update method adds new items of other set in existing set does not create new set\n",
    "s2.update(s3)\n",
    "print(s2)\n",
    "# intersection and intersection update prints only the item which are simillar in two sets\n",
    "# but intersection method return new set which contains those items which are simillar in those two sets\n",
    "s5=s1.intersection(s3)\n",
    "print(s5)\n",
    "# but intersection method donot return new set it only tell the simillar of two set and update in used set\n",
    "s2.intersection_update(s1)\n",
    "print(s2)\n",
    "# symetric difference and symetric difference update only prints the value which are not similar in the both sets\n",
    "# symetric difference metho return new set and symetric difference update  method only update in existing set from other set\n",
    "s6=s2.symmetric_difference(s3)\n",
    "print(s6)\n",
    "s1.symmetric_difference_update(s3)\n",
    "print(s1)\n",
    "#  difference and difference update only prints the value which are not similar in the both sets,only in original set\n",
    "#  difference method return new set and  difference update  method only update in existing set from other set\n",
    "s7=s6.difference(s2)\n",
    "print(s7)\n",
    "s6.difference_update(s2)\n",
    "print(s6)\n",
    "# isdisjoint method return false if items of given set in another set else return true\n",
    "print(s6.isdisjoint(s5))\n",
    "# issuperset method return true if items of given set in another set else return false\n",
    "print(s6.issuperset(s5))\n",
    "# if you want to add single item in set you use add method\n",
    "s6.add(78)\n",
    "print(s6)\n",
    "# if you want to add more than 1 item in set you use add method or you ant to create new set from existing set you use update\n",
    "s6.update(s1)\n",
    "print(s6)\n",
    "# we can use remove and discard method to remove item from the set,but remove makes error if the item is not exist in set,but discard does not make eror\n",
    "s10={10,20,30,40,50}\n",
    "print(s10)\n",
    "s10.remove(30)\n",
    "print(s10)\n",
    "s10.discard(20)\n",
    "print(s10)\n",
    "# pop method rremove the random value from set\n",
    "s10.pop()\n",
    "print(s10)\n",
    "# del is not method it is keyword and used to delete entire set\n",
    "s11={100,1200,300}\n",
    "print(s11)\n",
    "# del s11\n",
    "# print(s11)\n",
    "# clear method clear the whole set and set print as empty set\n",
    "s11.clear()\n",
    "print(s11)\n",
    "# issubset method prints true that set is subset other set  else false\n",
    "s12={12,34,56,78,90}\n",
    "s13={34,56}\n",
    "s13.issubset(s12)\n"
   ]
  },
  {
   "cell_type": "code",
   "execution_count": 4,
   "id": "81b7328e-f804-4536-8978-9d7d9888cd71",
   "metadata": {},
   "outputs": [
    {
     "name": "stdout",
     "output_type": "stream",
     "text": [
      "lion\n",
      "{'Haider': 'lion', 'Saifullah': 'Sword of allah'}\n",
      "dict_keys(['Haider', 'Saifullah'])\n",
      "dict_values(['lion', 'Sword of allah'])\n",
      "dict_items([('Haider', 'lion'), ('Saifullah', 'Sword of allah')])\n",
      "{311: 'shubm', 312: 'sameer', 313: 'shakeel', 314: 'saud'}\n",
      "{311: 'Umair', 312: 'sameer', 313: 'shakeel', 314: 'saud'}\n",
      "{1: 12, 2: 13, 3: 14}\n",
      "{}\n",
      "{1: 15, 2: 16, 3: 17}\n",
      "{1: 15, 3: 17}\n",
      "{1: 15, 2: 16, 3: 17}\n",
      "{1: 15, 2: 16}\n",
      "{1: 15, 2: 16, 3: 17}\n",
      "{2: 16, 3: 17}\n"
     ]
    }
   ],
   "source": [
    "# Dictionaries\n",
    "# dictinary is order collection of data items,store multiple items in a single variable,\n",
    "# dictionary items are key value pairs and enclosed in {}curly brackets\n",
    "d1={'Haider':'lion','Saifullah':\"Sword of allah\"}\n",
    "# we access dict items by their keys\n",
    "print(d1['Haider'])\n",
    "# we can print hole dict\n",
    "print(d1)\n",
    "# Accessing multiple keys and values\n",
    "print(d1.keys())\n",
    "print(d1.values())\n",
    "# we can acess key value pair of dict\n",
    "print(d1.items())\n",
    "# update method is used to update the values of the dict\n",
    "d2={311:'shubm',312:'sameer',313:'shakeel',314:'saud'}\n",
    "print(d2)\n",
    "d2.update({311:'Umair'})\n",
    "print(d2)\n",
    "# clear method clears or remove the whole dictionary\n",
    "d3={1:12,2:13,3:14}\n",
    "print(d3)\n",
    "d3.clear()\n",
    "print(d3)\n",
    "# pop remove the specfic key value pair where  passed its key as parameter to pop\n",
    "d4={1:15,2:16,3:17}\n",
    "print(d4)\n",
    "d4.pop(2)\n",
    "print(d4)\n",
    "# popitem remove the last key value pair of dict\n",
    "d5={1:15,2:16,3:17}\n",
    "print(d5)\n",
    "d5.popitem()\n",
    "print(d5)\n",
    "# del keyword delete whole dictionary\n",
    "d6={1:15,2:16,3:17}\n",
    "print(d6)\n",
    "# del d6\n",
    "# but if we write del keyword like below then it delete specfic key value pair\n",
    "del d6[1]\n",
    "print(d6)\n",
    "\n",
    "\n",
    "\n",
    "\n",
    "\n"
   ]
  },
  {
   "cell_type": "code",
   "execution_count": 13,
   "id": "ac77b59a-ffee-49ce-ad98-1c91ceee1ccf",
   "metadata": {},
   "outputs": [
    {
     "name": "stdout",
     "output_type": "stream",
     "text": [
      "1\n",
      "2\n",
      "3\n",
      "4\n",
      "5\n",
      "No more items in list\n",
      "0\n",
      "1\n",
      "2\n",
      "3\n",
      "4\n",
      "0\n",
      "1\n",
      "2\n",
      "3\n",
      "4\n",
      "5\n",
      "6\n",
      "no more iteration of while loop\n"
     ]
    }
   ],
   "source": [
    "# we can usefor  loop and while too with else ,else block appears after the body of the loop and executed when all iterations of the loops are done,\n",
    "# and  program exit when else block excuted\n",
    "fe=[1,2,3,4,5]\n",
    "for i in fe:\n",
    "    print(i)\n",
    "else:\n",
    "    print(\"No more items in list\")\n",
    "# in below case else block will nat exrcuted\n",
    "for i in range(6):\n",
    "    print(i)\n",
    "    if i==4:\n",
    "        break\n",
    "else:\n",
    "        print(\"loop completed\")\n",
    "# else ith while loop\n",
    "print\n",
    "i=0\n",
    "while  i<7:\n",
    "    print(i)\n",
    "    i=i+1\n",
    "else:\n",
    "    print('no more iteration of while loop')\n",
    "    "
   ]
  },
  {
   "cell_type": "code",
   "execution_count": 10,
   "id": "b95e3b0b-238d-436a-be49-e3d164b3ab06",
   "metadata": {},
   "outputs": [
    {
     "name": "stdin",
     "output_type": "stream",
     "text": [
      "Enter the number 6\n"
     ]
    },
    {
     "name": "stdout",
     "output_type": "stream",
     "text": [
      "8 x 1 = 6\n",
      "8 x 2 = 12\n",
      "8 x 3 = 18\n",
      "8 x 4 = 24\n",
      "8 x 5 = 30\n",
      "8 x 6 = 36\n",
      "8 x 7 = 42\n",
      "8 x 8 = 48\n",
      "8 x 9 = 54\n",
      "8 x 10 = 60\n",
      "our impotant code of lines\n"
     ]
    }
   ],
   "source": [
    "# Exception handling is the process of handling unwanted error when a program runs\n",
    "a=input('Enter the number')\n",
    "# try and except block are used in python to handle the error,the code which we want to run when there is no error written in try,\n",
    "# and the code we want run in case of error written except block when error occur except block runs\n",
    "try:\n",
    "   for i in range(1,11):\n",
    "       print(f'8 x {int(i)} =',i*int(a))\n",
    "except:\n",
    "      print(\"invalid input\")\n",
    "# our important lines of code will run,incase of error presence no bad effect on ou imp code\n",
    "print('our impotant code of lines')"
   ]
  },
  {
   "cell_type": "code",
   "execution_count": null,
   "id": "70fa6db2-1e81-4d65-bd5e-9503631f1a45",
   "metadata": {},
   "outputs": [],
   "source": []
  },
  {
   "cell_type": "code",
   "execution_count": null,
   "id": "dc486622-be87-4208-b515-d1ed7867b6b9",
   "metadata": {},
   "outputs": [],
   "source": []
  }
 ],
 "metadata": {
  "kernelspec": {
   "display_name": "Python 3 (ipykernel)",
   "language": "python",
   "name": "python3"
  },
  "language_info": {
   "codemirror_mode": {
    "name": "ipython",
    "version": 3
   },
   "file_extension": ".py",
   "mimetype": "text/x-python",
   "name": "python",
   "nbconvert_exporter": "python",
   "pygments_lexer": "ipython3",
   "version": "3.11.7"
  }
 },
 "nbformat": 4,
 "nbformat_minor": 5
}
